{
 "cells": [
  {
   "cell_type": "code",
   "execution_count": 1,
   "metadata": {},
   "outputs": [
    {
     "name": "stdout",
     "output_type": "stream",
     "text": [
      "\t\n"
     ]
    }
   ],
   "source": [
    "import csv\n",
    "addr = '/home/holyhigh/Documents/data/PLRaman/06190621/0619Si01_Pl_5pct_P1.txt'\n",
    "addr = '/home/holyhigh/Documents/data/XRD/SrHfS3/SHS04102022a01_GI_smoothed.txt'\n",
    "with open(addr, 'r') as f:\n",
    "    sniffer = csv.Sniffer()\n",
    "    dialect = sniffer.sniff(f.read(1024))  # Analyze the first 1024 bytes\n",
    "    delimiter = dialect.delimiter\n",
    "\n",
    "print(delimiter)"
   ]
  },
  {
   "cell_type": "code",
   "execution_count": 2,
   "metadata": {},
   "outputs": [
    {
     "data": {
      "text/plain": [
       "'\\t'"
      ]
     },
     "execution_count": 2,
     "metadata": {},
     "output_type": "execute_result"
    }
   ],
   "source": [
    "delimiter"
   ]
  },
  {
   "cell_type": "code",
   "execution_count": null,
   "metadata": {},
   "outputs": [],
   "source": []
  }
 ],
 "metadata": {
  "kernelspec": {
   "display_name": "jupyterhub",
   "language": "python",
   "name": "python3"
  },
  "language_info": {
   "codemirror_mode": {
    "name": "ipython",
    "version": 3
   },
   "file_extension": ".py",
   "mimetype": "text/x-python",
   "name": "python",
   "nbconvert_exporter": "python",
   "pygments_lexer": "ipython3",
   "version": "3.10.15"
  }
 },
 "nbformat": 4,
 "nbformat_minor": 2
}
